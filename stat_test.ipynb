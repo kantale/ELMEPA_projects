{
 "cells": [
  {
   "cell_type": "code",
   "execution_count": 1,
   "metadata": {},
   "outputs": [],
   "source": [
    "import random\n"
   ]
  },
  {
   "cell_type": "code",
   "execution_count": 7,
   "metadata": {},
   "outputs": [],
   "source": [
    "def create(N, prob):\n",
    "\n",
    "    pop = []\n",
    "    for x in range(N):\n",
    "        allele_1 = random.random() < prob\n",
    "        allele_2 = random.random() < prob\n",
    "\n",
    "        nucleotides = {True: 'A', False: 'T'}\n",
    "\n",
    "        genotypes = (nucleotides[allele_1], nucleotides[allele_2])\n",
    "\n",
    "        pop.append(genotypes)\n",
    "        \n",
    "    return pop"
   ]
  },
  {
   "cell_type": "code",
   "execution_count": 73,
   "metadata": {},
   "outputs": [],
   "source": [
    "pop_control = create(50, 0.3)\n",
    "pop_cases = create(50, 0.5)"
   ]
  },
  {
   "cell_type": "code",
   "execution_count": 74,
   "metadata": {},
   "outputs": [],
   "source": [
    "control_A = sum(x.count('A') for x in pop_control)\n",
    "control_T = sum(x.count('T') for x in pop_control)\n",
    "cases_A = sum(x.count('A') for x in pop_cases)\n",
    "cases_T = sum(x.count('T') for x in pop_cases)"
   ]
  },
  {
   "cell_type": "code",
   "execution_count": 94,
   "metadata": {},
   "outputs": [
    {
     "data": {
      "text/plain": [
       "18"
      ]
     },
     "execution_count": 94,
     "metadata": {},
     "output_type": "execute_result"
    }
   ],
   "source": [
    "control_A"
   ]
  },
  {
   "cell_type": "code",
   "execution_count": 95,
   "metadata": {},
   "outputs": [
    {
     "data": {
      "text/plain": [
       "82"
      ]
     },
     "execution_count": 95,
     "metadata": {},
     "output_type": "execute_result"
    }
   ],
   "source": [
    "control_T"
   ]
  },
  {
   "cell_type": "code",
   "execution_count": 96,
   "metadata": {},
   "outputs": [
    {
     "data": {
      "text/plain": [
       "44"
      ]
     },
     "execution_count": 96,
     "metadata": {},
     "output_type": "execute_result"
    }
   ],
   "source": [
    "cases_A"
   ]
  },
  {
   "cell_type": "code",
   "execution_count": 97,
   "metadata": {},
   "outputs": [
    {
     "data": {
      "text/plain": [
       "56"
      ]
     },
     "execution_count": 97,
     "metadata": {},
     "output_type": "execute_result"
    }
   ],
   "source": [
    "cases_T"
   ]
  },
  {
   "cell_type": "code",
   "execution_count": 98,
   "metadata": {},
   "outputs": [],
   "source": [
    "all_A = control_A + cases_A\n",
    "\n",
    "all_T = control_T + cases_T\n",
    "\n",
    "control_len = len(pop_control)\n",
    "cases_len = len(pop_cases)\n",
    "\n",
    "pop_len = control_len + cases_len"
   ]
  },
  {
   "cell_type": "code",
   "execution_count": 99,
   "metadata": {},
   "outputs": [],
   "source": [
    "expected_A_cases = all_A     *    cases_len/pop_len\n",
    "expected_T_cases = all_T     *    cases_len/pop_len\n",
    "expected_A_control = all_A     *    control_len/pop_len\n",
    "expected_T_control = all_T     *    control_len/pop_len"
   ]
  },
  {
   "cell_type": "code",
   "execution_count": 100,
   "metadata": {},
   "outputs": [
    {
     "data": {
      "text/plain": [
       "31.0"
      ]
     },
     "execution_count": 100,
     "metadata": {},
     "output_type": "execute_result"
    }
   ],
   "source": [
    "expected_A_cases"
   ]
  },
  {
   "cell_type": "code",
   "execution_count": 101,
   "metadata": {},
   "outputs": [
    {
     "data": {
      "text/plain": [
       "69.0"
      ]
     },
     "execution_count": 101,
     "metadata": {},
     "output_type": "execute_result"
    }
   ],
   "source": [
    "expected_T_cases"
   ]
  },
  {
   "cell_type": "code",
   "execution_count": 102,
   "metadata": {},
   "outputs": [
    {
     "data": {
      "text/plain": [
       "31.0"
      ]
     },
     "execution_count": 102,
     "metadata": {},
     "output_type": "execute_result"
    }
   ],
   "source": [
    "expected_A_control"
   ]
  },
  {
   "cell_type": "code",
   "execution_count": 103,
   "metadata": {},
   "outputs": [
    {
     "data": {
      "text/plain": [
       "69.0"
      ]
     },
     "execution_count": 103,
     "metadata": {},
     "output_type": "execute_result"
    }
   ],
   "source": [
    "expected_T_control"
   ]
  },
  {
   "cell_type": "code",
   "execution_count": 117,
   "metadata": {},
   "outputs": [
    {
     "data": {
      "text/plain": [
       "15.801776531089292"
      ]
     },
     "execution_count": 117,
     "metadata": {},
     "output_type": "execute_result"
    }
   ],
   "source": [
    "(control_A-expected_A_control)**2/expected_A_control + \\\n",
    "(control_T-expected_T_control)**2/expected_T_control + \\\n",
    "(cases_A-expected_A_cases)**2/expected_A_cases + \\\n",
    "(cases_T-expected_T_cases)**2/expected_T_cases"
   ]
  },
  {
   "cell_type": "code",
   "execution_count": 162,
   "metadata": {},
   "outputs": [],
   "source": [
    "import random\n",
    "def effort(cases_A, cases_T, control_A, control_T):\n",
    "    \n",
    "    \n",
    "    all_A = control_A + cases_A\n",
    "\n",
    "    all_T = control_T + cases_T\n",
    "\n",
    "    control_len = (control_A + control_T)/2\n",
    "    cases_len = (cases_A + cases_T)/2\n",
    "\n",
    "    pop_len = control_len + cases_len\n",
    "    \n",
    "    expected_A_cases = all_A     *    cases_len/pop_len\n",
    "    expected_T_cases = all_T     *    cases_len/pop_len\n",
    "    expected_A_control = all_A     *    control_len/pop_len\n",
    "    expected_T_control = all_T     *    control_len/pop_len\n",
    "    \n",
    "    obs_chi_sq = (control_A-expected_A_control)**2/expected_A_control + \\\n",
    "        (control_T-expected_T_control)**2/expected_T_control + \\\n",
    "        (cases_A-expected_A_cases)**2/expected_A_cases + \\\n",
    "        (cases_T-expected_T_cases)**2/expected_T_cases\n",
    "    \n",
    "    print ('Observed Chi-sq:', obs_chi_sq)\n",
    "    \n",
    "    c = 0\n",
    "    N = 100000\n",
    "    all_alleles = ['A'] * (cases_A + control_A) + ['T'] * (cases_T + control_T)\n",
    "    all_alleles_cases = (cases_A + cases_T)//2\n",
    "    all_alleles_controls = (control_A + control_T)//2\n",
    "    \n",
    "    for t in range(N):\n",
    "        \n",
    "        random.shuffle(all_alleles)\n",
    "        # Make pairs\n",
    "        population = [(all_alleles[x], all_alleles[x+1]) for x in range(0,len(all_alleles),2)]\n",
    "        \n",
    "        pop_control = population[:all_alleles_controls]\n",
    "        pop_cases = population[all_alleles_controls:]\n",
    "\n",
    "        control_A = sum(x.count('A') for x in pop_control)\n",
    "        control_T = sum(x.count('T') for x in pop_control)\n",
    "        cases_A = sum(x.count('A') for x in pop_cases)\n",
    "        cases_T = sum(x.count('T') for x in pop_cases)\n",
    "        \n",
    "        #print (control_A, control_T, cases_A, cases_T)\n",
    "        #a=1/0\n",
    "        \n",
    "       \n",
    "        chi_square = (control_A-expected_A_control)**2/expected_A_control + \\\n",
    "        (control_T-expected_T_control)**2/expected_T_control + \\\n",
    "        (cases_A-expected_A_cases)**2/expected_A_cases + \\\n",
    "        (cases_T-expected_T_cases)**2/expected_T_cases\n",
    "        \n",
    "        if chi_square >= obs_chi_sq:\n",
    "            c += 1\n",
    "            \n",
    "    pos = c/N\n",
    "    return pos"
   ]
  },
  {
   "cell_type": "code",
   "execution_count": 163,
   "metadata": {},
   "outputs": [
    {
     "name": "stdout",
     "output_type": "stream",
     "text": [
      "Observed Chi-sq: 15.801776531089292\n"
     ]
    },
    {
     "data": {
      "text/plain": [
       "7e-05"
      ]
     },
     "execution_count": 163,
     "metadata": {},
     "output_type": "execute_result"
    }
   ],
   "source": [
    "effort(44,56,18,82)"
   ]
  },
  {
   "cell_type": "code",
   "execution_count": 90,
   "metadata": {},
   "outputs": [],
   "source": [
    "from scipy.stats import chi2_contingency"
   ]
  },
  {
   "cell_type": "code",
   "execution_count": 161,
   "metadata": {},
   "outputs": [
    {
     "data": {
      "text/plain": [
       "(15.801776531089292, 7.033643545341309e-05, 1, array([[31., 69.],\n",
       "        [31., 69.]]))"
      ]
     },
     "execution_count": 161,
     "metadata": {},
     "output_type": "execute_result"
    }
   ],
   "source": [
    "chi2_contingency([[44, 56], [18, 82]], correction=False)"
   ]
  },
  {
   "cell_type": "code",
   "execution_count": null,
   "metadata": {},
   "outputs": [],
   "source": []
  }
 ],
 "metadata": {
  "kernelspec": {
   "display_name": "Python 3",
   "language": "python",
   "name": "python3"
  },
  "language_info": {
   "codemirror_mode": {
    "name": "ipython",
    "version": 3
   },
   "file_extension": ".py",
   "mimetype": "text/x-python",
   "name": "python",
   "nbconvert_exporter": "python",
   "pygments_lexer": "ipython3",
   "version": "3.7.0"
  }
 },
 "nbformat": 4,
 "nbformat_minor": 2
}
